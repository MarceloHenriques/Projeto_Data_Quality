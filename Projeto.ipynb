{
 "cells": [
  {
   "cell_type": "code",
   "execution_count": 29,
   "metadata": {},
   "outputs": [],
   "source": [
    "import pandas as pd\n",
    "import matplotlib.pyplot as plt"
   ]
  },
  {
   "cell_type": "code",
   "execution_count": 35,
   "metadata": {},
   "outputs": [],
   "source": [
    "class DataQuality:\n",
    "    def __init__ (self, dataframe ):\n",
    "        self.df = dataframe\n",
    "        \n",
    "    def analise_numerica(self): # Analisando as colunas numericas\n",
    "        return self.df.describe()\n",
    "    \n",
    "    def contagem_nulos(self): # Exibe a contagem dos valores nulos por coluna\n",
    "        return self.df.isnull().sum()\n",
    "    \n",
    "    def valores_unicos(self): # Exibindo a contagem dos valores unicos por coluna\n",
    "        return self.df.nunique()\n",
    "    \n",
    "    \n",
    "            "
   ]
  },
  {
   "cell_type": "code",
   "execution_count": 31,
   "metadata": {},
   "outputs": [],
   "source": [
    "df = pd.read_csv('G:/Meu Drive/Santander Coders/Modulo 3 - Técnicas de Programação/CSV Atletas/Atletas_ricos.csv')"
   ]
  },
  {
   "cell_type": "code",
   "execution_count": 36,
   "metadata": {},
   "outputs": [],
   "source": [
    "dq = DataQuality(df) # Instancia da classe DataQuality"
   ]
  },
  {
   "cell_type": "code",
   "execution_count": 33,
   "metadata": {},
   "outputs": [
    {
     "data": {
      "text/plain": [
       "S.NO                     0\n",
       "Name                     0\n",
       "Nationality              0\n",
       "Current Rank             0\n",
       "Previous Year Rank      24\n",
       "Sport                    0\n",
       "Year                     0\n",
       "earnings ($ million)     0\n",
       "dtype: int64"
      ]
     },
     "execution_count": 33,
     "metadata": {},
     "output_type": "execute_result"
    }
   ],
   "source": [
    "dq.contagem_nulos()"
   ]
  },
  {
   "cell_type": "code",
   "execution_count": 34,
   "metadata": {},
   "outputs": [
    {
     "data": {
      "text/plain": [
       "S.NO                    301\n",
       "Name                     82\n",
       "Nationality              22\n",
       "Current Rank             10\n",
       "Previous Year Rank       36\n",
       "Sport                    29\n",
       "Year                     30\n",
       "earnings ($ million)    198\n",
       "dtype: int64"
      ]
     },
     "execution_count": 34,
     "metadata": {},
     "output_type": "execute_result"
    }
   ],
   "source": [
    "dq.valores_unicos()"
   ]
  },
  {
   "cell_type": "code",
   "execution_count": 38,
   "metadata": {},
   "outputs": [
    {
     "data": {
      "text/html": [
       "<div>\n",
       "<style scoped>\n",
       "    .dataframe tbody tr th:only-of-type {\n",
       "        vertical-align: middle;\n",
       "    }\n",
       "\n",
       "    .dataframe tbody tr th {\n",
       "        vertical-align: top;\n",
       "    }\n",
       "\n",
       "    .dataframe thead th {\n",
       "        text-align: right;\n",
       "    }\n",
       "</style>\n",
       "<table border=\"1\" class=\"dataframe\">\n",
       "  <thead>\n",
       "    <tr style=\"text-align: right;\">\n",
       "      <th></th>\n",
       "      <th>S.NO</th>\n",
       "      <th>Current Rank</th>\n",
       "      <th>Year</th>\n",
       "      <th>earnings ($ million)</th>\n",
       "    </tr>\n",
       "  </thead>\n",
       "  <tbody>\n",
       "    <tr>\n",
       "      <th>count</th>\n",
       "      <td>301.00</td>\n",
       "      <td>301.00</td>\n",
       "      <td>301.00</td>\n",
       "      <td>301.00</td>\n",
       "    </tr>\n",
       "    <tr>\n",
       "      <th>mean</th>\n",
       "      <td>151.00</td>\n",
       "      <td>5.45</td>\n",
       "      <td>2005.12</td>\n",
       "      <td>45.52</td>\n",
       "    </tr>\n",
       "    <tr>\n",
       "      <th>std</th>\n",
       "      <td>87.04</td>\n",
       "      <td>2.85</td>\n",
       "      <td>9.06</td>\n",
       "      <td>33.53</td>\n",
       "    </tr>\n",
       "    <tr>\n",
       "      <th>min</th>\n",
       "      <td>1.00</td>\n",
       "      <td>1.00</td>\n",
       "      <td>1990.00</td>\n",
       "      <td>8.10</td>\n",
       "    </tr>\n",
       "    <tr>\n",
       "      <th>25%</th>\n",
       "      <td>76.00</td>\n",
       "      <td>3.00</td>\n",
       "      <td>1997.00</td>\n",
       "      <td>24.00</td>\n",
       "    </tr>\n",
       "    <tr>\n",
       "      <th>50%</th>\n",
       "      <td>151.00</td>\n",
       "      <td>5.00</td>\n",
       "      <td>2005.00</td>\n",
       "      <td>39.00</td>\n",
       "    </tr>\n",
       "    <tr>\n",
       "      <th>75%</th>\n",
       "      <td>226.00</td>\n",
       "      <td>8.00</td>\n",
       "      <td>2013.00</td>\n",
       "      <td>59.40</td>\n",
       "    </tr>\n",
       "    <tr>\n",
       "      <th>max</th>\n",
       "      <td>301.00</td>\n",
       "      <td>10.00</td>\n",
       "      <td>2020.00</td>\n",
       "      <td>300.00</td>\n",
       "    </tr>\n",
       "  </tbody>\n",
       "</table>\n",
       "</div>"
      ],
      "text/plain": [
       "         S.NO  Current Rank     Year  earnings ($ million)\n",
       "count  301.00        301.00   301.00                301.00\n",
       "mean   151.00          5.45  2005.12                 45.52\n",
       "std     87.04          2.85     9.06                 33.53\n",
       "min      1.00          1.00  1990.00                  8.10\n",
       "25%     76.00          3.00  1997.00                 24.00\n",
       "50%    151.00          5.00  2005.00                 39.00\n",
       "75%    226.00          8.00  2013.00                 59.40\n",
       "max    301.00         10.00  2020.00                300.00"
      ]
     },
     "execution_count": 38,
     "metadata": {},
     "output_type": "execute_result"
    }
   ],
   "source": [
    "dq.analise_numerica().round(2)"
   ]
  },
  {
   "cell_type": "code",
   "execution_count": null,
   "metadata": {},
   "outputs": [],
   "source": []
  }
 ],
 "metadata": {
  "kernelspec": {
   "display_name": "Python 3",
   "language": "python",
   "name": "python3"
  },
  "language_info": {
   "codemirror_mode": {
    "name": "ipython",
    "version": 3
   },
   "file_extension": ".py",
   "mimetype": "text/x-python",
   "name": "python",
   "nbconvert_exporter": "python",
   "pygments_lexer": "ipython3",
   "version": "3.11.9"
  }
 },
 "nbformat": 4,
 "nbformat_minor": 2
}
